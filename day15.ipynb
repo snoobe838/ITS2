{
 "cells": [
  {
   "cell_type": "code",
   "execution_count": 2,
   "metadata": {},
   "outputs": [],
   "source": [
    "import face_recognition as fr\n",
    "import pandas as pd\n",
    "import cv2\n",
    "import numpy as np"
   ]
  },
  {
   "cell_type": "code",
   "execution_count": null,
   "metadata": {},
   "outputs": [
    {
     "data": {
      "text/html": [
       "<div>\n",
       "<style scoped>\n",
       "    .dataframe tbody tr th:only-of-type {\n",
       "        vertical-align: middle;\n",
       "    }\n",
       "\n",
       "    .dataframe tbody tr th {\n",
       "        vertical-align: top;\n",
       "    }\n",
       "\n",
       "    .dataframe thead th {\n",
       "        text-align: right;\n",
       "    }\n",
       "</style>\n",
       "<table border=\"1\" class=\"dataframe\">\n",
       "  <thead>\n",
       "    <tr style=\"text-align: right;\">\n",
       "      <th></th>\n",
       "      <th>name</th>\n",
       "      <th>enc</th>\n",
       "    </tr>\n",
       "  </thead>\n",
       "  <tbody>\n",
       "    <tr>\n",
       "      <th>0</th>\n",
       "      <td>shubham</td>\n",
       "      <td>4</td>\n",
       "    </tr>\n",
       "    <tr>\n",
       "      <th>1</th>\n",
       "      <td>yash</td>\n",
       "      <td>5</td>\n",
       "    </tr>\n",
       "  </tbody>\n",
       "</table>\n",
       "</div>"
      ],
      "text/plain": [
       "      name enc\n",
       "0  shubham   4\n",
       "1     yash   5"
      ]
     },
     "execution_count": 10,
     "metadata": {},
     "output_type": "execute_result"
    }
   ],
   "source": [
    "df0 = pd.DataFrame({'name':['shubham','yash' ],'enc':['4','5']})\n",
    "df0"
   ]
  },
  {
   "cell_type": "code",
   "execution_count": null,
   "metadata": {},
   "outputs": [
    {
     "data": {
      "text/html": [
       "<div>\n",
       "<style scoped>\n",
       "    .dataframe tbody tr th:only-of-type {\n",
       "        vertical-align: middle;\n",
       "    }\n",
       "\n",
       "    .dataframe tbody tr th {\n",
       "        vertical-align: top;\n",
       "    }\n",
       "\n",
       "    .dataframe thead th {\n",
       "        text-align: right;\n",
       "    }\n",
       "</style>\n",
       "<table border=\"1\" class=\"dataframe\">\n",
       "  <thead>\n",
       "    <tr style=\"text-align: right;\">\n",
       "      <th></th>\n",
       "      <th>name</th>\n",
       "      <th>enc</th>\n",
       "    </tr>\n",
       "  </thead>\n",
       "  <tbody>\n",
       "    <tr>\n",
       "      <th>0</th>\n",
       "      <td>kashish</td>\n",
       "      <td>4</td>\n",
       "    </tr>\n",
       "    <tr>\n",
       "      <th>1</th>\n",
       "      <td>yashu</td>\n",
       "      <td>5</td>\n",
       "    </tr>\n",
       "  </tbody>\n",
       "</table>\n",
       "</div>"
      ],
      "text/plain": [
       "      name enc\n",
       "0  kashish   4\n",
       "1    yashu   5"
      ]
     },
     "execution_count": 11,
     "metadata": {},
     "output_type": "execute_result"
    }
   ],
   "source": [
    "df1 = pd.DataFrame({'name':['kashish','yashu' ],'enc':['4','5']})\n",
    "df1"
   ]
  },
  {
   "cell_type": "code",
   "execution_count": null,
   "metadata": {},
   "outputs": [
    {
     "data": {
      "text/html": [
       "<div>\n",
       "<style scoped>\n",
       "    .dataframe tbody tr th:only-of-type {\n",
       "        vertical-align: middle;\n",
       "    }\n",
       "\n",
       "    .dataframe tbody tr th {\n",
       "        vertical-align: top;\n",
       "    }\n",
       "\n",
       "    .dataframe thead th {\n",
       "        text-align: right;\n",
       "    }\n",
       "</style>\n",
       "<table border=\"1\" class=\"dataframe\">\n",
       "  <thead>\n",
       "    <tr style=\"text-align: right;\">\n",
       "      <th></th>\n",
       "      <th>name</th>\n",
       "      <th>enc</th>\n",
       "    </tr>\n",
       "  </thead>\n",
       "  <tbody>\n",
       "    <tr>\n",
       "      <th>0</th>\n",
       "      <td>shubham</td>\n",
       "      <td>4</td>\n",
       "    </tr>\n",
       "    <tr>\n",
       "      <th>1</th>\n",
       "      <td>yash</td>\n",
       "      <td>5</td>\n",
       "    </tr>\n",
       "    <tr>\n",
       "      <th>0</th>\n",
       "      <td>kashish</td>\n",
       "      <td>4</td>\n",
       "    </tr>\n",
       "    <tr>\n",
       "      <th>1</th>\n",
       "      <td>yashu</td>\n",
       "      <td>5</td>\n",
       "    </tr>\n",
       "  </tbody>\n",
       "</table>\n",
       "</div>"
      ],
      "text/plain": [
       "      name enc\n",
       "0  shubham   4\n",
       "1     yash   5\n",
       "0  kashish   4\n",
       "1    yashu   5"
      ]
     },
     "execution_count": 12,
     "metadata": {},
     "output_type": "execute_result"
    }
   ],
   "source": [
    "pd.concat([df0,df1])"
   ]
  },
  {
   "cell_type": "code",
   "execution_count": 4,
   "metadata": {},
   "outputs": [
    {
     "name": "stdout",
     "output_type": "stream",
     "text": [
      "1\n",
      "2\n",
      "3\n",
      "4\n"
     ]
    }
   ],
   "source": [
    "#face registration\n",
    "#####################\n",
    "fname = 'features.csv'\n",
    "\n",
    "try:\n",
    "    df=pd.read_csv(fname)\n",
    "except:\n",
    "    df = pd.DataFrame({'name':[],'enc':[]})\n",
    "\n",
    "fd = cv2.CascadeClassifier(\n",
    "    cv2.data.haarcascades + 'haarcascade_frontalface_default.xml'\n",
    ")\n",
    "vid = cv2.VideoCapture(0)\n",
    "counter = 0\n",
    "names =[]\n",
    "feats = []  \n",
    "name = input('Enter your name:')\n",
    "while True:\n",
    "    ack, img = vid.read()\n",
    "    if ack:\n",
    "        faces = fd.detectMultiScale(img, 1.2,10)\n",
    "        if len(faces) == 1:\n",
    "            x,y,w,h = faces[0]\n",
    "            face_img = img[y:y+h,x:x+w,:].copy()\n",
    "            face_enc = fr.face_encodings(face_img)\n",
    "            if len(face_enc) == 1:\n",
    "                counter += 1\n",
    "                print(counter)\n",
    "                names += [name]\n",
    "                feats += [face_enc[0].tolist()]\n",
    "                #f= pd.DataFrame({'name':[name], 'enc':face_enc})\n",
    "                #df = pd.concat([df,f],axis=0, ignore_index=True\n",
    "                \n",
    "        #...\n",
    "            if counter == 20:\n",
    "                f= pd.DataFrame({'name':names, 'enc':feats})\n",
    "                df = pd.concat([df,f],axis=0, ignore_index=True)\n",
    "                df.to_csv(fname)\n",
    "                print('saved')\n",
    "                break \n",
    "        cv2.imshow('preview', img) #depends on requirement\n",
    "        key = cv2.waitKey(1)\n",
    "        if key == ord('x'):\n",
    "            break\n",
    "cv2.destroyAllWindows()\n",
    "vid.release()"
   ]
  },
  {
   "cell_type": "code",
   "execution_count": 5,
   "metadata": {},
   "outputs": [],
   "source": [
    "#Recognition\n",
    "\n",
    "try:\n",
    "    df=pd.read_csv(fname)\n",
    "except:\n",
    "    print (\"Face database not found. Halt\")\n",
    "else:\n",
    "    \n",
    "    fd = cv2.CascadeClassifier(\n",
    "        cv2.data.haarcascades + 'haarcascade_frontalface_default.xml'\n",
    "    )\n",
    "    vid = cv2.VideoCapture(0)\n",
    "    \n",
    "    while True:\n",
    "        ack, img = vid.read()\n",
    "        if ack:\n",
    "            faces = fd.detectMultiScale(img, 1.2,10)\n",
    "            if len(faces) == 1:\n",
    "                x,y,w,h = faces[0]\n",
    "                face_img = img[y:y+h,x:x+w,:].copy()\n",
    "                face_enc = fr.face_encodings(face_img)\n",
    "                if len(face_enc) == 1:\n",
    "                    \n",
    "                    feats_data = df['enc'].apply(lambda x:eval(x)).values.tolist()\n",
    "                    matches = fr.compare_faces(face_enc, np.array(feats_data)) \n",
    "\n",
    "                    if True in matches:\n",
    "                        match_ind = matches.index(True)\n",
    "                        name = df['name'][match_ind]\n",
    "                    else:\n",
    "                        name = 'Unknown'\n",
    "\n",
    "                    cv2.putText(\n",
    "                        img, name, (150,150),\n",
    "                        cv2.FONT_HERSHEY_DUPLEX,2,(0,0,255), thickness=5\n",
    "                    )\n",
    "                                        \n",
    "\n",
    "            cv2.imshow('preview', img) #depends on requirement\n",
    "            key = cv2.waitKey(1)\n",
    "            if key == ord('x'):\n",
    "                break\n",
    "    cv2.destroyAllWindows()\n",
    "    vid.release()"
   ]
  },
  {
   "cell_type": "code",
   "execution_count": null,
   "metadata": {},
   "outputs": [],
   "source": []
  }
 ],
 "metadata": {
  "kernelspec": {
   "display_name": "Python 3",
   "language": "python",
   "name": "python3"
  },
  "language_info": {
   "codemirror_mode": {
    "name": "ipython",
    "version": 3
   },
   "file_extension": ".py",
   "mimetype": "text/x-python",
   "name": "python",
   "nbconvert_exporter": "python",
   "pygments_lexer": "ipython3",
   "version": "3.10.11"
  },
  "orig_nbformat": 4
 },
 "nbformat": 4,
 "nbformat_minor": 2
}
